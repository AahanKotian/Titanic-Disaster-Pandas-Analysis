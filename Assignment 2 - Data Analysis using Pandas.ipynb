{
   "cell_type": "code",
   "execution_count": 10,
   "metadata": {},
   "outputs": [],
   "source": [
    "NAME = \"Aahan Kotian\"\n",
    "COLLABORATORS = \"\""
   ]
  },
  {
   "cell_type": "markdown",
   "metadata": {},
   "source": [
    "For this assignment, we will analyze the open dataset with data on the passengers aboard the Titanic.\n",
    "\n",
    "The data file for this assignment can be downloaded from Kaggle website: https://www.kaggle.com/c/titanic/data, file `train.csv`. It is also attached to the assignment page. The definition of all variables can be found on the same Kaggle page, in the Data Dictionary section.\n",
    "\n",
    "Read the data from the file into pandas DataFrame. Analyze, clean and transform the data to answer the following question: \n",
    "\n",
    "**What categories of passengers were most likely to survive the Titanic disaster?**"
   ]
  },
  {
   "cell_type": "markdown",
   "metadata": {},
   "source": [
    "**Question 1.**  _(4 points)_\n",
    "* The answer to the main question - What categories of passengers were most likely to survive the Titanic disaster? _(2 points)_\n",
    "* The detailed explanation of the logic of the analysis _(2 points)_\n",
    "\n",
    "Answer to Question 1: According to my analysis, the most likely group of passengers to survive the titanic disaster were young women under the ages of 18 years old with family members. I suspect that this group of people survived was because of a \"women and children first\" policy on the Titanic which would have given women and young girls priority over men as they would have been regarded as the most vulnerable and need of attention on the ship. As to having extended family members, special attention would likely have been made to keep families intact so that young children would have been taken care of by their parents and older relatives after reaching land.\n",
    "\n",
    "**Question 2.**  _(3 points)_\n",
    "* What other attributes did you use for the analysis? Explain how you used them and why you decided to use them. \n",
    "* Provide a complete list of all attributes used.\n",
    "\n",
    "Answer to Question 2: Another attribute I used for the analysis was 'Pclass'. Typically passengers in 'Pclass' 1 would have been substantially wealthier which would have given them more access to lifeboats overall. Which explains why a vastly higher percentage of people in that subcategory survived as compared to 'Pclass' 3. I also used 'Fare' in tandem\n",
    "with 'Pclass' to determine how wealthy each passenger was. The attributes I used for my analysis as a whole were 'Survived', 'Sex', 'Age', 'Fare', 'SibSp', 'Parch' and 'Pclass'.\n",
    "\n",
    "**Question 3.**  _(3 points)_\n",
    "* Did you engineer any attributes (created new attributes)? If yes, explain the rationale and how the new attributes were used in the analysis?\n",
    "* If you have excluded any attributes from the analysis, provide an explanation why you believe they can be excluded.\n",
    "\n",
    "Answer to Question 3: I did not create any new attributes. I also excluded attributes in my analysis such as where the passengers 'Embarked' from, their 'Name', their 'Cabin' or the 'Ticket' numbers. This was because I did not initially believe those particular attributes would have any influence on whether or not the passengers to whom they applied would be most likely to either die or survive. I believed those attributes lacked reference to variables such as age, wealth. gender or the presence of family members which would have had a tangible effect on lifeboat distribution.\n",
    "\n",
    "**Question 4.**  _(5 points)_\n",
    "* How did you treat missing values for those attributes that you included in the analysis (for example, `age` attribute)? Provide a detailed explanation in the comments.\n",
    "\n",
    "Answer to Question 4: Due to the missing values of under the attributes tables of 'Age' I had to categorize certain values as \"NaN\" for lack of information. These totalled up to 177 passengers without their ages specified. Since I could not judge the age of the unlabelled passengers and that any passenger of any age could be listed as unlabelled I decided that including the missing values into the analysis would not have any merit. \n",
    "\n",
    "Being a bystander and only having access to the data sheet I would have had a far different perspective from a crewmember of the Titanic who could better gauge the ages of myriad of unlabelled persons on board and more accurately determine who was more in need of saving. It was my opinion that the lack of labelling and documentation would not have had an influence on survival."
   ]
  },
  {
   "cell_type": "code",
   "execution_count": 11,
   "metadata": {},
   "outputs": [],
   "source": [
    "import pandas as pd"
   ]
  },
  {
   "cell_type": "code",
   "execution_count": 12,
   "metadata": {},
   "outputs": [],
   "source": [
    "df = pd.read_csv(\"train.csv\")"
   ]
  },
  {
   "cell_type": "code",
   "execution_count": 13,
   "metadata": {},
   "outputs": [
    {
     "data": {
      "text/html": [
       "<div>\n",
       "<style scoped>\n",
       "    .dataframe tbody tr th:only-of-type {\n",
       "        vertical-align: middle;\n",
       "    }\n",
       "\n",
       "    .dataframe tbody tr th {\n",
       "        vertical-align: top;\n",
       "    }\n",
       "\n",
       "    .dataframe thead th {\n",
       "        text-align: right;\n",
       "    }\n",
       "</style>\n",
       "<table border=\"1\" class=\"dataframe\">\n",
       "  <thead>\n",
       "    <tr style=\"text-align: right;\">\n",
       "      <th></th>\n",
       "      <th>PassengerId</th>\n",
       "      <th>Survived</th>\n",
       "      <th>Pclass</th>\n",
       "      <th>Name</th>\n",
       "      <th>Sex</th>\n",
       "      <th>Age</th>\n",
       "      <th>SibSp</th>\n",
       "      <th>Parch</th>\n",
       "      <th>Ticket</th>\n",
       "      <th>Fare</th>\n",
       "      <th>Cabin</th>\n",
       "      <th>Embarked</th>\n",
       "    </tr>\n",
       "  </thead>\n",
       "  <tbody>\n",
       "    <tr>\n",
       "      <th>0</th>\n",
       "      <td>1</td>\n",
       "      <td>0</td>\n",
       "      <td>3</td>\n",
       "      <td>Braund, Mr. Owen Harris</td>\n",
       "      <td>male</td>\n",
       "      <td>22.0</td>\n",
       "      <td>1</td>\n",
       "      <td>0</td>\n",
       "      <td>A/5 21171</td>\n",
       "      <td>7.2500</td>\n",
       "      <td>NaN</td>\n",
       "      <td>S</td>\n",
       "    </tr>\n",
       "    <tr>\n",
       "      <th>1</th>\n",
       "      <td>2</td>\n",
       "      <td>1</td>\n",
       "      <td>1</td>\n",
       "      <td>Cumings, Mrs. John Bradley (Florence Briggs Th...</td>\n",
       "      <td>female</td>\n",
       "      <td>38.0</td>\n",
       "      <td>1</td>\n",
       "      <td>0</td>\n",
       "      <td>PC 17599</td>\n",
       "      <td>71.2833</td>\n",
       "      <td>C85</td>\n",
       "      <td>C</td>\n",
       "    </tr>\n",
       "    <tr>\n",
       "      <th>2</th>\n",
       "      <td>3</td>\n",
       "      <td>1</td>\n",
       "      <td>3</td>\n",
       "      <td>Heikkinen, Miss. Laina</td>\n",
       "      <td>female</td>\n",
       "      <td>26.0</td>\n",
       "      <td>0</td>\n",
       "      <td>0</td>\n",
       "      <td>STON/O2. 3101282</td>\n",
       "      <td>7.9250</td>\n",
       "      <td>NaN</td>\n",
       "      <td>S</td>\n",
       "    </tr>\n",
       "    <tr>\n",
       "      <th>3</th>\n",
       "      <td>4</td>\n",
       "      <td>1</td>\n",
       "      <td>1</td>\n",
       "      <td>Futrelle, Mrs. Jacques Heath (Lily May Peel)</td>\n",
       "      <td>female</td>\n",
       "      <td>35.0</td>\n",
       "      <td>1</td>\n",
       "      <td>0</td>\n",
       "      <td>113803</td>\n",
       "      <td>53.1000</td>\n",
       "      <td>C123</td>\n",
       "      <td>S</td>\n",
       "    </tr>\n",
       "    <tr>\n",
       "      <th>4</th>\n",
       "      <td>5</td>\n",
       "      <td>0</td>\n",
       "      <td>3</td>\n",
       "      <td>Allen, Mr. William Henry</td>\n",
       "      <td>male</td>\n",
       "      <td>35.0</td>\n",
       "      <td>0</td>\n",
       "      <td>0</td>\n",
       "      <td>373450</td>\n",
       "      <td>8.0500</td>\n",
       "      <td>NaN</td>\n",
       "      <td>S</td>\n",
       "    </tr>\n",
       "    <tr>\n",
       "      <th>...</th>\n",
       "      <td>...</td>\n",
       "      <td>...</td>\n",
       "      <td>...</td>\n",
       "      <td>...</td>\n",
       "      <td>...</td>\n",
       "      <td>...</td>\n",
       "      <td>...</td>\n",
       "      <td>...</td>\n",
       "      <td>...</td>\n",
       "      <td>...</td>\n",
       "      <td>...</td>\n",
       "      <td>...</td>\n",
       "    </tr>\n",
       "    <tr>\n",
       "      <th>886</th>\n",
       "      <td>887</td>\n",
       "      <td>0</td>\n",
       "      <td>2</td>\n",
       "      <td>Montvila, Rev. Juozas</td>\n",
       "      <td>male</td>\n",
       "      <td>27.0</td>\n",
       "      <td>0</td>\n",
       "      <td>0</td>\n",
       "      <td>211536</td>\n",
       "      <td>13.0000</td>\n",
       "      <td>NaN</td>\n",
       "      <td>S</td>\n",
       "    </tr>\n",
       "    <tr>\n",
       "      <th>887</th>\n",
       "      <td>888</td>\n",
       "      <td>1</td>\n",
       "      <td>1</td>\n",
       "      <td>Graham, Miss. Margaret Edith</td>\n",
       "      <td>female</td>\n",
       "      <td>19.0</td>\n",
       "      <td>0</td>\n",
       "      <td>0</td>\n",
       "      <td>112053</td>\n",
       "      <td>30.0000</td>\n",
       "      <td>B42</td>\n",
       "      <td>S</td>\n",
       "    </tr>\n",
       "    <tr>\n",
       "      <th>888</th>\n",
       "      <td>889</td>\n",
       "      <td>0</td>\n",
       "      <td>3</td>\n",
       "      <td>Johnston, Miss. Catherine Helen \"Carrie\"</td>\n",
       "      <td>female</td>\n",
       "      <td>NaN</td>\n",
       "      <td>1</td>\n",
       "      <td>2</td>\n",
       "      <td>W./C. 6607</td>\n",
       "      <td>23.4500</td>\n",
       "      <td>NaN</td>\n",
       "      <td>S</td>\n",
       "    </tr>\n",
       "    <tr>\n",
       "      <th>889</th>\n",
       "      <td>890</td>\n",
       "      <td>1</td>\n",
       "      <td>1</td>\n",
       "      <td>Behr, Mr. Karl Howell</td>\n",
       "      <td>male</td>\n",
       "      <td>26.0</td>\n",
       "      <td>0</td>\n",
       "      <td>0</td>\n",
       "      <td>111369</td>\n",
       "      <td>30.0000</td>\n",
       "      <td>C148</td>\n",
       "      <td>C</td>\n",
       "    </tr>\n",
       "    <tr>\n",
       "      <th>890</th>\n",
       "      <td>891</td>\n",
       "      <td>0</td>\n",
       "      <td>3</td>\n",
       "      <td>Dooley, Mr. Patrick</td>\n",
       "      <td>male</td>\n",
       "      <td>32.0</td>\n",
       "      <td>0</td>\n",
       "      <td>0</td>\n",
       "      <td>370376</td>\n",
       "      <td>7.7500</td>\n",
       "      <td>NaN</td>\n",
       "      <td>Q</td>\n",
       "    </tr>\n",
       "  </tbody>\n",
       "</table>\n",
       "<p>891 rows × 12 columns</p>\n",
       "</div>"
      ],
      "text/plain": [
       "     PassengerId  Survived  Pclass  \\\n",
       "0              1         0       3   \n",
       "1              2         1       1   \n",
       "2              3         1       3   \n",
       "3              4         1       1   \n",
       "4              5         0       3   \n",
       "..           ...       ...     ...   \n",
       "886          887         0       2   \n",
       "887          888         1       1   \n",
       "888          889         0       3   \n",
       "889          890         1       1   \n",
       "890          891         0       3   \n",
       "\n",
       "                                                  Name     Sex   Age  SibSp  \\\n",
       "0                              Braund, Mr. Owen Harris    male  22.0      1   \n",
       "1    Cumings, Mrs. John Bradley (Florence Briggs Th...  female  38.0      1   \n",
       "2                               Heikkinen, Miss. Laina  female  26.0      0   \n",
       "3         Futrelle, Mrs. Jacques Heath (Lily May Peel)  female  35.0      1   \n",
       "4                             Allen, Mr. William Henry    male  35.0      0   \n",
       "..                                                 ...     ...   ...    ...   \n",
       "886                              Montvila, Rev. Juozas    male  27.0      0   \n",
       "887                       Graham, Miss. Margaret Edith  female  19.0      0   \n",
       "888           Johnston, Miss. Catherine Helen \"Carrie\"  female   NaN      1   \n",
       "889                              Behr, Mr. Karl Howell    male  26.0      0   \n",
       "890                                Dooley, Mr. Patrick    male  32.0      0   \n",
       "\n",
       "     Parch            Ticket     Fare Cabin Embarked  \n",
       "0        0         A/5 21171   7.2500   NaN        S  \n",
       "1        0          PC 17599  71.2833   C85        C  \n",
       "2        0  STON/O2. 3101282   7.9250   NaN        S  \n",
       "3        0            113803  53.1000  C123        S  \n",
       "4        0            373450   8.0500   NaN        S  \n",
       "..     ...               ...      ...   ...      ...  \n",
       "886      0            211536  13.0000   NaN        S  \n",
       "887      0            112053  30.0000   B42        S  \n",
       "888      2        W./C. 6607  23.4500   NaN        S  \n",
       "889      0            111369  30.0000  C148        C  \n",
       "890      0            370376   7.7500   NaN        Q  \n",
       "\n",
       "[891 rows x 12 columns]"
      ]
     },
     "execution_count": 13,
     "metadata": {},
     "output_type": "execute_result"
    }
   ],
   "source": [
    "df"
   ]
  },
  {
   "cell_type": "code",
   "execution_count": 14,
   "metadata": {},
   "outputs": [
    {
     "data": {
      "text/plain": [
       "(891, 12)"
      ]
     },
     "execution_count": 14,
     "metadata": {},
     "output_type": "execute_result"
    }
   ],
   "source": [
    "df.shape\n",
    "\n",
    "#891 passengers and 12 variables."
   ]
  },
  {
   "cell_type": "code",
   "execution_count": 15,
   "metadata": {},
   "outputs": [
    {
     "data": {
      "text/plain": [
       "0    549\n",
       "1    342\n",
       "Name: Survived, dtype: int64"
      ]
     },
     "execution_count": 15,
     "metadata": {},
     "output_type": "execute_result"
    }
   ],
   "source": [
    "df.Survived.value_counts()\n",
    "\n",
    "#Out of 891 total passengers only 342 survived. "
   ]
  },
  {
   "cell_type": "code",
   "execution_count": 16,
   "metadata": {},
   "outputs": [
    {
     "data": {
      "text/plain": [
       "0.3838383838383838"
      ]
     },
     "execution_count": 16,
     "metadata": {},
     "output_type": "execute_result"
    }
   ],
   "source": [
    "342/891.0\n",
    "\n",
    "#Roughly 38 percent of the passengers survived the Titanic."
   ]
  },
  {
   "cell_type": "code",
   "execution_count": 17,
   "metadata": {},
   "outputs": [
    {
     "data": {
      "text/plain": [
       "male      577\n",
       "female    314\n",
       "Name: Sex, dtype: int64"
      ]
     },
     "execution_count": 17,
     "metadata": {},
     "output_type": "execute_result"
    }
   ],
   "source": [
    "df.Sex.value_counts()\n",
    "\n",
    "#out of 891 passengers 577 were male and 314 were female"
   ]
  },
  {
   "cell_type": "code",
   "execution_count": 18,
   "metadata": {},
   "outputs": [
    {
     "data": {
      "text/plain": [
       "0    468\n",
       "1    109\n",
       "Name: Survived, dtype: int64"
      ]
     },
     "execution_count": 18,
     "metadata": {},
     "output_type": "execute_result"
    }
   ],
   "source": [
    "df[df.Sex=='male'].Survived.value_counts()\n",
    "\n",
    "#Out of 577 male passengers only 109 survived. That being 18.89%."
   ]
  },
  {
   "cell_type": "code",
   "execution_count": 19,
   "metadata": {},
   "outputs": [
    {
     "data": {
      "text/plain": [
       "1    233\n",
       "0     81\n",
       "Name: Survived, dtype: int64"
      ]
     },
     "execution_count": 19,
     "metadata": {},
     "output_type": "execute_result"
    }
   ],
   "source": [
    "df[df.Sex=='female'].Survived.value_counts()\n",
    "\n",
    "#Out of 314 female passengers 233 survived. That being 74.20%. This indicates that women were more than 50% more likely to survive than their male counterparts."
   ]
  },
  {
   "cell_type": "code",
   "execution_count": 20,
   "metadata": {},
   "outputs": [
    {
     "data": {
      "text/html": [
       "<div>\n",
       "<style scoped>\n",
       "    .dataframe tbody tr th:only-of-type {\n",
       "        vertical-align: middle;\n",
       "    }\n",
       "\n",
       "    .dataframe tbody tr th {\n",
       "        vertical-align: top;\n",
       "    }\n",
       "\n",
       "    .dataframe thead th {\n",
       "        text-align: right;\n",
       "    }\n",
       "</style>\n",
       "<table border=\"1\" class=\"dataframe\">\n",
       "  <thead>\n",
       "    <tr style=\"text-align: right;\">\n",
       "      <th></th>\n",
       "      <th>PassengerId</th>\n",
       "      <th>Survived</th>\n",
       "      <th>Pclass</th>\n",
       "      <th>Name</th>\n",
       "      <th>Sex</th>\n",
       "      <th>Age</th>\n",
       "      <th>SibSp</th>\n",
       "      <th>Parch</th>\n",
       "      <th>Ticket</th>\n",
       "      <th>Fare</th>\n",
       "      <th>Cabin</th>\n",
       "      <th>Embarked</th>\n",
       "    </tr>\n",
       "  </thead>\n",
       "  <tbody>\n",
       "    <tr>\n",
       "      <th>5</th>\n",
       "      <td>6</td>\n",
       "      <td>0</td>\n",
       "      <td>3</td>\n",
       "      <td>Moran, Mr. James</td>\n",
       "      <td>male</td>\n",
       "      <td>NaN</td>\n",
       "      <td>0</td>\n",
       "      <td>0</td>\n",
       "      <td>330877</td>\n",
       "      <td>8.4583</td>\n",
       "      <td>NaN</td>\n",
       "      <td>Q</td>\n",
       "    </tr>\n",
       "    <tr>\n",
       "      <th>17</th>\n",
       "      <td>18</td>\n",
       "      <td>1</td>\n",
       "      <td>2</td>\n",
       "      <td>Williams, Mr. Charles Eugene</td>\n",
       "      <td>male</td>\n",
       "      <td>NaN</td>\n",
       "      <td>0</td>\n",
       "      <td>0</td>\n",
       "      <td>244373</td>\n",
       "      <td>13.0000</td>\n",
       "      <td>NaN</td>\n",
       "      <td>S</td>\n",
       "    </tr>\n",
       "    <tr>\n",
       "      <th>19</th>\n",
       "      <td>20</td>\n",
       "      <td>1</td>\n",
       "      <td>3</td>\n",
       "      <td>Masselmani, Mrs. Fatima</td>\n",
       "      <td>female</td>\n",
       "      <td>NaN</td>\n",
       "      <td>0</td>\n",
       "      <td>0</td>\n",
       "      <td>2649</td>\n",
       "      <td>7.2250</td>\n",
       "      <td>NaN</td>\n",
       "      <td>C</td>\n",
       "    </tr>\n",
       "    <tr>\n",
       "      <th>26</th>\n",
       "      <td>27</td>\n",
       "      <td>0</td>\n",
       "      <td>3</td>\n",
       "      <td>Emir, Mr. Farred Chehab</td>\n",
       "      <td>male</td>\n",
       "      <td>NaN</td>\n",
       "      <td>0</td>\n",
       "      <td>0</td>\n",
       "      <td>2631</td>\n",
       "      <td>7.2250</td>\n",
       "      <td>NaN</td>\n",
       "      <td>C</td>\n",
       "    </tr>\n",
       "    <tr>\n",
       "      <th>28</th>\n",
       "      <td>29</td>\n",
       "      <td>1</td>\n",
       "      <td>3</td>\n",
       "      <td>O'Dwyer, Miss. Ellen \"Nellie\"</td>\n",
       "      <td>female</td>\n",
       "      <td>NaN</td>\n",
       "      <td>0</td>\n",
       "      <td>0</td>\n",
       "      <td>330959</td>\n",
       "      <td>7.8792</td>\n",
       "      <td>NaN</td>\n",
       "      <td>Q</td>\n",
       "    </tr>\n",
       "    <tr>\n",
       "      <th>...</th>\n",
       "      <td>...</td>\n",
       "      <td>...</td>\n",
       "      <td>...</td>\n",
       "      <td>...</td>\n",
       "      <td>...</td>\n",
       "      <td>...</td>\n",
       "      <td>...</td>\n",
       "      <td>...</td>\n",
       "      <td>...</td>\n",
       "      <td>...</td>\n",
       "      <td>...</td>\n",
       "      <td>...</td>\n",
       "    </tr>\n",
       "    <tr>\n",
       "      <th>859</th>\n",
       "      <td>860</td>\n",
       "      <td>0</td>\n",
       "      <td>3</td>\n",
       "      <td>Razi, Mr. Raihed</td>\n",
       "      <td>male</td>\n",
       "      <td>NaN</td>\n",
       "      <td>0</td>\n",
       "      <td>0</td>\n",
       "      <td>2629</td>\n",
       "      <td>7.2292</td>\n",
       "      <td>NaN</td>\n",
       "      <td>C</td>\n",
       "    </tr>\n",
       "    <tr>\n",
       "      <th>863</th>\n",
       "      <td>864</td>\n",
       "      <td>0</td>\n",
       "      <td>3</td>\n",
       "      <td>Sage, Miss. Dorothy Edith \"Dolly\"</td>\n",
       "      <td>female</td>\n",
       "      <td>NaN</td>\n",
       "      <td>8</td>\n",
       "      <td>2</td>\n",
       "      <td>CA. 2343</td>\n",
       "      <td>69.5500</td>\n",
       "      <td>NaN</td>\n",
       "      <td>S</td>\n",
       "    </tr>\n",
       "    <tr>\n",
       "      <th>868</th>\n",
       "      <td>869</td>\n",
       "      <td>0</td>\n",
       "      <td>3</td>\n",
       "      <td>van Melkebeke, Mr. Philemon</td>\n",
       "      <td>male</td>\n",
       "      <td>NaN</td>\n",
       "      <td>0</td>\n",
       "      <td>0</td>\n",
       "      <td>345777</td>\n",
       "      <td>9.5000</td>\n",
       "      <td>NaN</td>\n",
       "      <td>S</td>\n",
       "    </tr>\n",
       "    <tr>\n",
       "      <th>878</th>\n",
       "      <td>879</td>\n",
       "      <td>0</td>\n",
       "      <td>3</td>\n",
       "      <td>Laleff, Mr. Kristo</td>\n",
       "      <td>male</td>\n",
       "      <td>NaN</td>\n",
       "      <td>0</td>\n",
       "      <td>0</td>\n",
       "      <td>349217</td>\n",
       "      <td>7.8958</td>\n",
       "      <td>NaN</td>\n",
       "      <td>S</td>\n",
       "    </tr>\n",
       "    <tr>\n",
       "      <th>888</th>\n",
       "      <td>889</td>\n",
       "      <td>0</td>\n",
       "      <td>3</td>\n",
       "      <td>Johnston, Miss. Catherine Helen \"Carrie\"</td>\n",
       "      <td>female</td>\n",
       "      <td>NaN</td>\n",
       "      <td>1</td>\n",
       "      <td>2</td>\n",
       "      <td>W./C. 6607</td>\n",
       "      <td>23.4500</td>\n",
       "      <td>NaN</td>\n",
       "      <td>S</td>\n",
       "    </tr>\n",
       "  </tbody>\n",
       "</table>\n",
       "<p>177 rows × 12 columns</p>\n",
       "</div>"
      ],
      "text/plain": [
       "     PassengerId  Survived  Pclass                                      Name  \\\n",
       "5              6         0       3                          Moran, Mr. James   \n",
       "17            18         1       2              Williams, Mr. Charles Eugene   \n",
       "19            20         1       3                   Masselmani, Mrs. Fatima   \n",
       "26            27         0       3                   Emir, Mr. Farred Chehab   \n",
       "28            29         1       3             O'Dwyer, Miss. Ellen \"Nellie\"   \n",
       "..           ...       ...     ...                                       ...   \n",
       "859          860         0       3                          Razi, Mr. Raihed   \n",
       "863          864         0       3         Sage, Miss. Dorothy Edith \"Dolly\"   \n",
       "868          869         0       3               van Melkebeke, Mr. Philemon   \n",
       "878          879         0       3                        Laleff, Mr. Kristo   \n",
       "888          889         0       3  Johnston, Miss. Catherine Helen \"Carrie\"   \n",
       "\n",
       "        Sex  Age  SibSp  Parch      Ticket     Fare Cabin Embarked  \n",
       "5      male  NaN      0      0      330877   8.4583   NaN        Q  \n",
       "17     male  NaN      0      0      244373  13.0000   NaN        S  \n",
       "19   female  NaN      0      0        2649   7.2250   NaN        C  \n",
       "26     male  NaN      0      0        2631   7.2250   NaN        C  \n",
       "28   female  NaN      0      0      330959   7.8792   NaN        Q  \n",
       "..      ...  ...    ...    ...         ...      ...   ...      ...  \n",
       "859    male  NaN      0      0        2629   7.2292   NaN        C  \n",
       "863  female  NaN      8      2    CA. 2343  69.5500   NaN        S  \n",
       "868    male  NaN      0      0      345777   9.5000   NaN        S  \n",
       "878    male  NaN      0      0      349217   7.8958   NaN        S  \n",
       "888  female  NaN      1      2  W./C. 6607  23.4500   NaN        S  \n",
       "\n",
       "[177 rows x 12 columns]"
      ]
     },
     "execution_count": 20,
     "metadata": {},
     "output_type": "execute_result"
    }
   ],
   "source": [
    "df[df.Age.isnull()]\n",
    "\n",
    "#Out of 891 passengers 177 did not have a specified age."
   ]
  },
  {
   "cell_type": "code",
   "execution_count": 23,
   "metadata": {},
   "outputs": [
    {
     "data": {
      "text/plain": [
       "0    372\n",
       "1    229\n",
       "Name: Survived, dtype: int64"
      ]
     },
     "execution_count": 23,
     "metadata": {},
     "output_type": "execute_result"
    }
   ],
   "source": [
    "df[df.Age>=18].Survived.value_counts()\n",
    "\n",
    "#Out of 601 passengers at or over the age of 18 only 229 survived. Amounting to 38.1%."
   ]
  },
  {
   "cell_type": "code",
   "execution_count": 22,
   "metadata": {},
   "outputs": [
    {
     "data": {
      "text/plain": [
       "1    61\n",
       "0    52\n",
       "Name: Survived, dtype: int64"
      ]
     },
     "execution_count": 22,
     "metadata": {},
     "output_type": "execute_result"
    }
   ],
   "source": [
    "df[df.Age<18].Survived.value_counts()\n",
    "\n",
    "#Out of 113 passengers under the age of 18 a total of 61 survived. Amounting to 53.98%. As we can see, being a minor under the age of 18 would have increased a passenger's likelihood of survival by 15.88%."
   ]
  },
  {
   "cell_type": "code",
   "execution_count": 24,
   "metadata": {},
   "outputs": [
    {
     "data": {
      "text/plain": [
       "8.0500     43\n",
       "13.0000    42\n",
       "7.8958     38\n",
       "7.7500     34\n",
       "26.0000    31\n",
       "           ..\n",
       "35.0000     1\n",
       "28.5000     1\n",
       "6.2375      1\n",
       "14.0000     1\n",
       "10.5167     1\n",
       "Name: Fare, Length: 248, dtype: int64"
      ]
     },
     "execution_count": 24,
     "metadata": {},
     "output_type": "execute_result"
    }
   ],
   "source": [
    "df.Fare.value_counts()"
   ]
  },
  {
   "cell_type": "code",
   "execution_count": 25,
   "metadata": {},
   "outputs": [
    {
     "data": {
      "text/plain": [
       "<AxesSubplot:>"
      ]
     },
     "execution_count": 25,
     "metadata": {},
     "output_type": "execute_result"
    },
    {
     "data": {
      "image/png": "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\n",
      "text/plain": [
       "<Figure size 432x288 with 1 Axes>"
      ]
     },
     "metadata": {
      "needs_background": "light"
     },
     "output_type": "display_data"
    }
   ],
   "source": [
    "df.Fare.hist()\n",
    "\n",
    "#The vast majority of passengers on board paid less than 100 pounds for passage."
   ]
  },
  {
   "cell_type": "code",
   "execution_count": 26,
   "metadata": {},
   "outputs": [
    {
     "data": {
      "text/html": [
       "<div>\n",
       "<style scoped>\n",
       "    .dataframe tbody tr th:only-of-type {\n",
       "        vertical-align: middle;\n",
       "    }\n",
       "\n",
       "    .dataframe tbody tr th {\n",
       "        vertical-align: top;\n",
       "    }\n",
       "\n",
       "    .dataframe thead th {\n",
       "        text-align: right;\n",
       "    }\n",
       "</style>\n",
       "<table border=\"1\" class=\"dataframe\">\n",
       "  <thead>\n",
       "    <tr style=\"text-align: right;\">\n",
       "      <th></th>\n",
       "      <th>PassengerId</th>\n",
       "      <th>Survived</th>\n",
       "      <th>Pclass</th>\n",
       "      <th>Age</th>\n",
       "      <th>SibSp</th>\n",
       "      <th>Parch</th>\n",
       "      <th>Fare</th>\n",
       "    </tr>\n",
       "  </thead>\n",
       "  <tbody>\n",
       "    <tr>\n",
       "      <th>count</th>\n",
       "      <td>891.000000</td>\n",
       "      <td>891.000000</td>\n",
       "      <td>891.000000</td>\n",
       "      <td>714.000000</td>\n",
       "      <td>891.000000</td>\n",
       "      <td>891.000000</td>\n",
       "      <td>891.000000</td>\n",
       "    </tr>\n",
       "    <tr>\n",
       "      <th>mean</th>\n",
       "      <td>446.000000</td>\n",
       "      <td>0.383838</td>\n",
       "      <td>2.308642</td>\n",
       "      <td>29.699118</td>\n",
       "      <td>0.523008</td>\n",
       "      <td>0.381594</td>\n",
       "      <td>32.204208</td>\n",
       "    </tr>\n",
       "    <tr>\n",
       "      <th>std</th>\n",
       "      <td>257.353842</td>\n",
       "      <td>0.486592</td>\n",
       "      <td>0.836071</td>\n",
       "      <td>14.526497</td>\n",
       "      <td>1.102743</td>\n",
       "      <td>0.806057</td>\n",
       "      <td>49.693429</td>\n",
       "    </tr>\n",
       "    <tr>\n",
       "      <th>min</th>\n",
       "      <td>1.000000</td>\n",
       "      <td>0.000000</td>\n",
       "      <td>1.000000</td>\n",
       "      <td>0.420000</td>\n",
       "      <td>0.000000</td>\n",
       "      <td>0.000000</td>\n",
       "      <td>0.000000</td>\n",
       "    </tr>\n",
       "    <tr>\n",
       "      <th>25%</th>\n",
       "      <td>223.500000</td>\n",
       "      <td>0.000000</td>\n",
       "      <td>2.000000</td>\n",
       "      <td>20.125000</td>\n",
       "      <td>0.000000</td>\n",
       "      <td>0.000000</td>\n",
       "      <td>7.910400</td>\n",
       "    </tr>\n",
       "    <tr>\n",
       "      <th>50%</th>\n",
       "      <td>446.000000</td>\n",
       "      <td>0.000000</td>\n",
       "      <td>3.000000</td>\n",
       "      <td>28.000000</td>\n",
       "      <td>0.000000</td>\n",
       "      <td>0.000000</td>\n",
       "      <td>14.454200</td>\n",
       "    </tr>\n",
       "    <tr>\n",
       "      <th>75%</th>\n",
       "      <td>668.500000</td>\n",
       "      <td>1.000000</td>\n",
       "      <td>3.000000</td>\n",
       "      <td>38.000000</td>\n",
       "      <td>1.000000</td>\n",
       "      <td>0.000000</td>\n",
       "      <td>31.000000</td>\n",
       "    </tr>\n",
       "    <tr>\n",
       "      <th>max</th>\n",
       "      <td>891.000000</td>\n",
       "      <td>1.000000</td>\n",
       "      <td>3.000000</td>\n",
       "      <td>80.000000</td>\n",
       "      <td>8.000000</td>\n",
       "      <td>6.000000</td>\n",
       "      <td>512.329200</td>\n",
       "    </tr>\n",
       "  </tbody>\n",
       "</table>\n",
       "</div>"
      ],
      "text/plain": [
       "       PassengerId    Survived      Pclass         Age       SibSp  \\\n",
       "count   891.000000  891.000000  891.000000  714.000000  891.000000   \n",
       "mean    446.000000    0.383838    2.308642   29.699118    0.523008   \n",
       "std     257.353842    0.486592    0.836071   14.526497    1.102743   \n",
       "min       1.000000    0.000000    1.000000    0.420000    0.000000   \n",
       "25%     223.500000    0.000000    2.000000   20.125000    0.000000   \n",
       "50%     446.000000    0.000000    3.000000   28.000000    0.000000   \n",
       "75%     668.500000    1.000000    3.000000   38.000000    1.000000   \n",
       "max     891.000000    1.000000    3.000000   80.000000    8.000000   \n",
       "\n",
       "            Parch        Fare  \n",
       "count  891.000000  891.000000  \n",
       "mean     0.381594   32.204208  \n",
       "std      0.806057   49.693429  \n",
       "min      0.000000    0.000000  \n",
       "25%      0.000000    7.910400  \n",
       "50%      0.000000   14.454200  \n",
       "75%      0.000000   31.000000  \n",
       "max      6.000000  512.329200  "
      ]
     },
     "execution_count": 26,
     "metadata": {},
     "output_type": "execute_result"
    }
   ],
   "source": [
    "df.describe()\n",
    "\n",
    "#The average price of fare paid was 32.2 pounds while the max paid was 512.3."
   ]
  },
  {
   "cell_type": "code",
   "execution_count": 27,
   "metadata": {},
   "outputs": [
    {
     "data": {
      "text/plain": [
       "0    14\n",
       "1     1\n",
       "Name: Survived, dtype: int64"
      ]
     },
     "execution_count": 27,
     "metadata": {},
     "output_type": "execute_result"
    }
   ],
   "source": [
    "df[df.Fare==0].Survived.value_counts()\n",
    "\n",
    "#Among the 15 passengers that paid no fare only 1 survived. Coming up to 6.67%."
   ]
  },
  {
   "cell_type": "code",
   "execution_count": 28,
   "metadata": {},
   "outputs": [
    {
     "data": {
      "text/plain": [
       "0    280\n",
       "1    275\n",
       "Name: Survived, dtype: int64"
      ]
     },
     "execution_count": 28,
     "metadata": {},
     "output_type": "execute_result"
    }
   ],
   "source": [
    "df[df.Fare>10].Survived.value_counts()\n",
    "\n",
    "#Among the 555 passengers that paid a fee over 10 a total of 275 survived. Coming up to 49.55%."
   ]
  },
  {
   "cell_type": "code",
   "execution_count": 29,
   "metadata": {},
   "outputs": [
    {
     "data": {
      "text/plain": [
       "1    109\n",
       "0     51\n",
       "Name: Survived, dtype: int64"
      ]
     },
     "execution_count": 29,
     "metadata": {},
     "output_type": "execute_result"
    }
   ],
   "source": [
    "df[df.Fare>50].Survived.value_counts()\n",
    "\n",
    "#Among the 160 passengers that paid a fee over 50 a total of 109 survived. Coming up to 68.13%."
   ]
  },
  {
   "cell_type": "code",
   "execution_count": 30,
   "metadata": {},
   "outputs": [
    {
     "data": {
      "text/plain": [
       "1    39\n",
       "0    14\n",
       "Name: Survived, dtype: int64"
      ]
     },
     "execution_count": 30,
     "metadata": {},
     "output_type": "execute_result"
    }
   ],
   "source": [
    "df[df.Fare>100].Survived.value_counts()\n",
    "\n",
    "#Among the 53 passengers that paid a fee over 100 a total of 39 survived. Coming up to 73.58%. Showing that the rates of survival dramatically increase with higher fares paid."
   ]
  },
  {
   "cell_type": "code",
   "execution_count": 36,
   "metadata": {},
   "outputs": [
    {
     "data": {
      "text/plain": [
       "0    608\n",
       "1    209\n",
       "2     28\n",
       "4     18\n",
       "3     16\n",
       "8      7\n",
       "5      5\n",
       "Name: SibSp, dtype: int64"
      ]
     },
     "execution_count": 36,
     "metadata": {},
     "output_type": "execute_result"
    }
   ],
   "source": [
    "df.SibSp.value_counts()\n",
    "\n",
    "#Out of 891 passengers 608 did not have siblings or spouses on board."
   ]
  },
  {
   "cell_type": "code",
   "execution_count": 40,
   "metadata": {},
   "outputs": [
    {
     "data": {
      "text/plain": [
       "0    398\n",
       "1    210\n",
       "Name: Survived, dtype: int64"
      ]
     },
     "execution_count": 40,
     "metadata": {},
     "output_type": "execute_result"
    }
   ],
   "source": [
    "df[df.SibSp==0].Survived.value_counts()\n",
    "\n",
    "#Out of 608 passengers without siblings or spouses only 210 survived. This amounts to 34.54%."
   ]
  },
  {
   "cell_type": "code",
   "execution_count": 42,
   "metadata": {},
   "outputs": [
    {
     "data": {
      "text/plain": [
       "0    151\n",
       "1    132\n",
       "Name: Survived, dtype: int64"
      ]
     },
     "execution_count": 42,
     "metadata": {},
     "output_type": "execute_result"
    }
   ],
   "source": [
    "df[df.SibSp>0].Survived.value_counts()\n",
    "\n",
    "#Out of 283 passengers with siblings or spouses a total of 132 survived. This amounts to 46.64%. As a whole the likelihood of a passenger with a sibling or spouse surviving increased by 12.10%."
   ]
  },
  {
   "cell_type": "code",
   "execution_count": 39,
   "metadata": {},
   "outputs": [
    {
     "data": {
      "text/plain": [
       "0    678\n",
       "1    118\n",
       "2     80\n",
       "5      5\n",
       "3      5\n",
       "4      4\n",
       "6      1\n",
       "Name: Parch, dtype: int64"
      ]
     },
     "execution_count": 39,
     "metadata": {},
     "output_type": "execute_result"
    }
   ],
   "source": [
    "df.Parch.value_counts()\n",
    "\n",
    "#Out of 891 passengers a total of 678 did not have siblings or spouses on board."
   ]
  },
  {
   "cell_type": "code",
   "execution_count": 41,
   "metadata": {},
   "outputs": [
    {
     "data": {
      "text/plain": [
       "0    445\n",
       "1    233\n",
       "Name: Survived, dtype: int64"
      ]
     },
     "execution_count": 41,
     "metadata": {},
     "output_type": "execute_result"
    }
   ],
   "source": [
    "df[df.Parch==0].Survived.value_counts()\n",
    "\n",
    "#Out of 678 passengers a total of 233 survived. This amounts to 34.37%."
   ]
  },
  {
   "cell_type": "code",
   "execution_count": 43,
   "metadata": {},
   "outputs": [
    {
     "data": {
      "text/plain": [
       "1    109\n",
       "0    104\n",
       "Name: Survived, dtype: int64"
      ]
     },
     "execution_count": 43,
     "metadata": {},
     "output_type": "execute_result"
    }
   ],
   "source": [
    "df[df.Parch>0].Survived.value_counts()\n",
    "\n",
    "#Out of 213 passengers a total of 213 survived. This amounts to 51.17%. As we can see, having parents of children would have increased a passenger's likelihood of survival by 16.8%. "
   ]
  },
  {
   "cell_type": "code",
   "execution_count": 21,
   "metadata": {},
   "outputs": [
    {
     "data": {
      "text/plain": [
       "<AxesSubplot:>"
      ]
     },
     "execution_count": 21,
     "metadata": {},
     "output_type": "execute_result"
    },
    {
     "data": {
      "image/png": "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\n",
      "text/plain": [
       "<Figure size 432x288 with 1 Axes>"
      ]
     },
     "metadata": {
      "needs_background": "light"
     },
     "output_type": "display_data"
    }
   ],
   "source": [
    "df.Pclass.hist()\n"
   ]
  },
  {
   "cell_type": "code",
   "execution_count": 31,
   "metadata": {},
   "outputs": [
    {
     "data": {
      "text/plain": [
       "3    491\n",
       "1    216\n",
       "2    184\n",
       "Name: Pclass, dtype: int64"
      ]
     },
     "execution_count": 31,
     "metadata": {},
     "output_type": "execute_result"
    }
   ],
   "source": [
    "df.Pclass.value_counts()\n",
    "\n",
    "#The majority of passengers were in Pclass 3, the lowest class. That being 491 out of 891."
   ]
  },
  {
   "cell_type": "code",
   "execution_count": 34,
   "metadata": {},
   "outputs": [
    {
     "data": {
      "text/plain": [
       "0    372\n",
       "1    119\n",
       "Name: Survived, dtype: int64"
      ]
     },
     "execution_count": 34,
     "metadata": {},
     "output_type": "execute_result"
    }
   ],
   "source": [
    "df[df.Pclass==3].Survived.value_counts()\n",
    "\n",
    "#Out of Pclass 3 which comprised 491 people a total of 119 survived. Which is 24.24%."
   ]
  },
  {
   "cell_type": "code",
   "execution_count": 33,
   "metadata": {},
   "outputs": [
    {
     "data": {
      "text/plain": [
       "0    97\n",
       "1    87\n",
       "Name: Survived, dtype: int64"
      ]
     },
     "execution_count": 33,
     "metadata": {},
     "output_type": "execute_result"
    }
   ],
   "source": [
    "df[df.Pclass==2].Survived.value_counts()\n",
    "\n",
    "#Out of Pclass 2 which comprised 184 people a total of 87 survived. Which is 47.28%."
   ]
  },
  {
   "cell_type": "code",
   "execution_count": 32,
   "metadata": {},
   "outputs": [
    {
     "data": {
      "text/plain": [
       "1    136\n",
       "0     80\n",
       "Name: Survived, dtype: int64"
      ]
     },
     "execution_count": 32,
     "metadata": {},
     "output_type": "execute_result"
    }
   ],
   "source": [
    "df[df.Pclass==1].Survived.value_counts()\n",
    "\n",
    "#Out of Pclass 1 which comprised 216 people a total of 136 survived. Which is 62.96%. As we can see, the wealthiest passenger class had a roughly 40% higher chance of survival than the lowest class."
   ]
  }
 ],
 "metadata": {
  "kernelspec": {
   "display_name": "Python 3 (ipykernel)",
   "language": "python",
   "name": "python3"
  },
  "language_info": {
   "codemirror_mode": {
    "name": "ipython",
    "version": 3
   },
   "file_extension": ".py",
   "mimetype": "text/x-python",
   "name": "python",
   "nbconvert_exporter": "python",
   "pygments_lexer": "ipython3",
   "version": "3.9.13"
  },
  "toc": {
   "base_numbering": 1,
   "nav_menu": {},
   "number_sections": false,
   "sideBar": true,
   "skip_h1_title": false,
   "title_cell": "Table of Contents",
   "title_sidebar": "Contents",
   "toc_cell": false,
   "toc_position": {},
   "toc_section_display": true,
   "toc_window_display": false
  }
 },
 "nbformat": 4,
 "nbformat_minor": 2
}
